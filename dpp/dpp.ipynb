{
 "cells": [
  {
   "cell_type": "code",
   "execution_count": 1,
   "metadata": {},
   "outputs": [],
   "source": [
    "import numpy as np\n",
    "import json\n",
    "import random\n",
    "from scipy import spatial\n",
    "import pandas as pd"
   ]
  },
  {
   "cell_type": "code",
   "execution_count": 2,
   "metadata": {},
   "outputs": [],
   "source": [
    "data = np.load(\"./feature_mat.npy\")"
   ]
  },
  {
   "cell_type": "code",
   "execution_count": 3,
   "metadata": {},
   "outputs": [],
   "source": [
    "data = data.transpose()"
   ]
  },
  {
   "cell_type": "code",
   "execution_count": 4,
   "metadata": {},
   "outputs": [
    {
     "data": {
      "text/plain": [
       "(2625, 100)"
      ]
     },
     "execution_count": 4,
     "metadata": {},
     "output_type": "execute_result"
    }
   ],
   "source": [
    "data.shape"
   ]
  },
  {
   "cell_type": "code",
   "execution_count": 5,
   "metadata": {},
   "outputs": [],
   "source": [
    "with open(\"./scores.json\") as j:\n",
    "    data_json = json.load(j)"
   ]
  },
  {
   "cell_type": "code",
   "execution_count": 6,
   "metadata": {},
   "outputs": [],
   "source": [
    "def getScore(i, j, score_matrix, feature_matrix):\n",
    "    return score_matrix[i]*score_matrix[j]*(1 - spatial.distance.cosine(feature_matrix[i], feature_matrix[j]))\n",
    "def getResult(score_matrix, feature_matrix):\n",
    "    result=[]\n",
    "    myset = set([])\n",
    "    current_shape = 1\n",
    "    cur_max = -1\n",
    "    cur_index = -1\n",
    "    movie_size = len(score_matrix)\n",
    "    for i in range(0, movie_size):\n",
    "        score = np.linalg.det(np.array(getScore(i,i,score_matrix, feature_matrix)).reshape(1,1))\n",
    "        if score > cur_max:\n",
    "            cur_max = score\n",
    "            cur_index = i\n",
    "    L = np.array(getScore(cur_index,cur_index,score_matrix, feature_matrix)).reshape(1,1)\n",
    "    result.append(cur_index)\n",
    "    myset.add(cur_index)\n",
    "    old_score = 0\n",
    "    for i in range(1, movie_size):\n",
    "        #save L for roll back\n",
    "        old_L = L\n",
    "        #Make L bigger\n",
    "        new_shape = current_shape + 1\n",
    "        vertical = np.zeros([1, current_shape])\n",
    "        horizontal = np.zeros([new_shape, 1])\n",
    "        L = np.concatenate((L, vertical), axis=0)\n",
    "        L = np.concatenate((L, horizontal), axis=1)\n",
    "        #print(L.shape)\n",
    "        #Try to add new id\n",
    "        cur_max = -1\n",
    "        cur_index = -1\n",
    "        for j in range(0, movie_size):\n",
    "            if j not in myset:\n",
    "                #computer new row and column\n",
    "                for position in range(0, current_shape):\n",
    "                    p_score = getScore(result[position], j, score_matrix, feature_matrix)\n",
    "                    #column\n",
    "                    L[position, current_shape] = p_score\n",
    "                    #row\n",
    "                    L[current_shape, position] = p_score\n",
    "                L[current_shape, current_shape] = getScore(j, j, score_matrix, feature_matrix)\n",
    "                score = np.linalg.det(L)\n",
    "                if score > cur_max:\n",
    "                    cur_max = score\n",
    "                    cur_index = j\n",
    "        for position in range(0, current_shape):\n",
    "            p_score = getScore(result[position], cur_index, score_matrix, feature_matrix)\n",
    "            L[position,current_shape] = p_score\n",
    "            L[current_shape,position] = p_score\n",
    "        L[current_shape, current_shape] = getScore(cur_index, cur_index,score_matrix, feature_matrix)\n",
    "        #result.append(cur_index)\n",
    "        #myset.add(cur_index)\n",
    "        #print(L)\n",
    "        current_shape+=1\n",
    "        if cur_max >= old_score:\n",
    "            old_score = cur_max\n",
    "            result.append(cur_index)\n",
    "            myset.add(cur_index)\n",
    "            #print(L)\n",
    "        else:\n",
    "            break\n",
    "    for i in range(0, movie_size):\n",
    "        if i not in myset:\n",
    "            result.append(i)\n",
    "        else:\n",
    "            continue\n",
    "    return result"
   ]
  },
  {
   "cell_type": "code",
   "execution_count": 7,
   "metadata": {},
   "outputs": [],
   "source": [
    "userlike = {}\n",
    "userlike_no = {}\n",
    "def generate_wanted(data_json, data, topK):\n",
    "    for userId, movieScore in data_json.items():\n",
    "        topMovie = movieScore[:topK]\n",
    "        topScore = [i[1] for i in topMovie]\n",
    "        movie_ids = [i[0] for i in topMovie]\n",
    "        movie_feature = [ data[i] for i in movie_ids]\n",
    "        result = getResult(topScore, movie_feature)\n",
    "        th = set(result)\n",
    "        assert len(th) > 1,\"nothing\"\n",
    "        userlike_no[userId] = movie_ids\n",
    "        reorder_id = [movie_ids[i] for i in result]\n",
    "        userlike[userId] = reorder_id"
   ]
  },
  {
   "cell_type": "code",
   "execution_count": 8,
   "metadata": {},
   "outputs": [],
   "source": [
    "generate_wanted(data_json, data, 10)"
   ]
  },
  {
   "cell_type": "code",
   "execution_count": 9,
   "metadata": {},
   "outputs": [],
   "source": [
    "movie_info = pd.read_csv(\"./u.item\", sep=\"|\",header=None, index_col=None)"
   ]
  },
  {
   "cell_type": "code",
   "execution_count": 10,
   "metadata": {},
   "outputs": [],
   "source": [
    "movie_cate = {}\n",
    "def decode_onehot(movie_data):\n",
    "    for i in range(len(movie_data)):\n",
    "        movie_cate[i] = []\n",
    "        for j in range(5, 24, 1):\n",
    "            if movie_data.loc[i, j] == 1:\n",
    "                movie_cate[i].append(j - 5)\n",
    "decode_onehot(movie_info)"
   ]
  },
  {
   "cell_type": "code",
   "execution_count": 11,
   "metadata": {},
   "outputs": [],
   "source": [
    "user_like_cate = {}\n",
    "user_like_noorder = {}\n",
    "\n",
    "for key, value in userlike.items():\n",
    "    for movie in value[:3]:\n",
    "        for cate in movie_cate[movie]:\n",
    "            user_like_cate[cate] = user_like_cate.get(cate, 0) + 1\n",
    "\n",
    "for key, value in userlike_no.items():\n",
    "    for movie in value[:3]:\n",
    "        for cate in movie_cate[movie]:\n",
    "            user_like_noorder[cate] = user_like_cate.get(cate, 0) + 1"
   ]
  },
  {
   "cell_type": "code",
   "execution_count": 12,
   "metadata": {},
   "outputs": [],
   "source": [
    "user_like_cate = sorted(user_like_cate.items(), key=lambda x: x[0])\n",
    "user_like_cate_noorder = sorted(user_like_noorder.items(), key=lambda x: x[0])"
   ]
  },
  {
   "cell_type": "code",
   "execution_count": 37,
   "metadata": {},
   "outputs": [
    {
     "data": {
      "image/png": "[encoded data removed]",
      "text/plain": [
       "<Figure size 432x288 with 1 Axes>"
      ]
     },
     "metadata": {
      "needs_background": "light"
     },
     "output_type": "display_data"
    }
   ],
   "source": [
    "import matplotlib.pyplot as plt\n",
    "\n",
    "x = [i[0] for i in user_like_cate]\n",
    "y = [i[1] for i in user_like_cate]\n",
    "\n",
    "plt.bar(x,y,align='center') # A bar chart\n",
    "plt.xlabel('Category')\n",
    "plt.ylabel('Frequency')\n",
    "# for i in range(len(y)):\n",
    "#     plt.hlines(y[i],0,x[i]) # Here you are drawing the horizontal lines\n",
    "plt.show()"
   ]
  },
  {
   "cell_type": "code",
   "execution_count": 38,
   "metadata": {},
   "outputs": [
    {
     "data": {
      "image/png": "[encoded data removed]",
      "text/plain": [
       "<Figure size 432x288 with 1 Axes>"
      ]
     },
     "metadata": {
      "needs_background": "light"
     },
     "output_type": "display_data"
    }
   ],
   "source": [
    "import matplotlib.pyplot as plt\n",
    "\n",
    "x = [i[0] for i in user_like_cate_noorder]\n",
    "y = [i[1] for i in user_like_cate_noorder]\n",
    "\n",
    "plt.bar(x,y,align='center') # A bar chart\n",
    "plt.xlabel('Category')\n",
    "plt.ylabel('Frequency')\n",
    "# for i in range(len(y)):\n",
    "#     plt.hlines(y[i],0,x[i]) # Here you are drawing the horizontal lines\n",
    "plt.show()"
   ]
  },
  {
   "cell_type": "code",
   "execution_count": 13,
   "metadata": {},
   "outputs": [
    {
     "data": {
      "text/plain": [
       "dict_keys(['1682', '1683', '1684', '1685', '1686', '1687', '1688', '1689', '1690', '1691', '1692', '1693', '1694', '1695', '1696', '1697', '1698', '1699', '1700', '1701', '1702', '1703', '1704', '1705', '1706', '1707', '1708', '1709', '1710', '1711', '1712', '1713', '1714', '1715', '1716', '1717', '1718', '1719', '1720', '1721', '1722', '1723', '1724', '1725', '1726', '1727', '1728', '1729', '1730', '1731', '1732', '1733', '1734', '1735', '1736', '1737', '1738', '1739', '1740', '1741', '1742', '1743', '1744', '1745', '1746', '1747', '1748', '1749', '1750', '1751', '1752', '1753', '1754', '1755', '1756', '1757', '1758', '1759', '1760', '1761', '1762', '1763', '1764', '1765', '1766', '1767', '1768', '1769', '1770', '1771', '1772', '1773', '1774', '1775', '1776', '1777', '1778', '1779', '1780', '1781', '1782', '1783', '1784', '1785', '1786', '1787', '1788', '1789', '1790', '1791', '1792', '1793', '1794', '1795', '1796', '1797', '1798', '1799', '1800', '1801', '1802', '1803', '1804', '1805', '1806', '1807', '1808', '1809', '1810', '1811', '1812', '1813', '1814', '1815', '1816', '1817', '1818', '1819', '1820', '1821', '1822', '1823', '1824', '1825', '1826', '1827', '1828', '1829', '1830', '1831', '1832', '1833', '1834', '1835', '1836', '1837', '1838', '1839', '1840', '1841', '1842', '1843', '1844', '1845', '1846', '1847', '1848', '1849', '1850', '1851', '1852', '1853', '1854', '1855', '1856', '1857', '1858', '1859', '1860', '1861', '1862', '1863', '1864', '1865', '1866', '1867', '1868', '1869', '1870', '1871', '1872', '1873', '1874', '1875', '1876', '1877', '1878', '1879', '1880', '1881', '1882', '1883', '1884', '1885', '1886', '1887', '1888', '1889', '1890', '1891', '1892', '1893', '1894', '1895', '1896', '1897', '1898', '1899', '1900', '1901', '1902', '1903', '1904', '1905', '1906', '1907', '1908', '1909', '1910', '1911', '1912', '1913', '1914', '1915', '1916', '1917', '1918', '1919', '1920', '1921', '1922', '1923', '1924', '1925', '1926', '1927', '1928', '1929', '1930', '1931', '1932', '1933', '1934', '1935', '1936', '1937', '1938', '1939', '1940', '1941', '1942', '1943', '1944', '1945', '1946', '1947', '1948', '1949', '1950', '1951', '1952', '1953', '1954', '1955', '1956', '1957', '1958', '1959', '1960', '1961', '1962', '1963', '1964', '1965', '1966', '1967', '1968', '1969', '1970', '1971', '1972', '1973', '1974', '1975', '1976', '1977', '1978', '1979', '1980', '1981', '1982', '1983', '1984', '1985', '1986', '1987', '1988', '1989', '1990', '1991', '1992', '1993', '1994', '1995', '1996', '1997', '1998', '1999', '2000', '2001', '2002', '2003', '2004', '2005', '2006', '2007', '2008', '2009', '2010', '2011', '2012', '2013', '2014', '2015', '2016', '2017', '2018', '2019', '2020', '2021', '2022', '2023', '2024', '2025', '2026', '2027', '2028', '2029', '2030', '2031', '2032', '2033', '2034', '2035', '2036', '2037', '2038', '2039', '2040', '2041', '2042', '2043', '2044', '2045', '2046', '2047', '2048', '2049', '2050', '2051', '2052', '2053', '2054', '2055', '2056', '2057', '2058', '2059', '2060', '2061', '2062', '2063', '2064', '2065', '2066', '2067', '2068', '2069', '2070', '2071', '2072', '2073', '2074', '2075', '2076', '2077', '2078', '2079', '2080', '2081', '2082', '2083', '2084', '2085', '2086', '2087', '2088', '2089', '2090', '2091', '2092', '2093', '2094', '2095', '2096', '2097', '2098', '2099', '2100', '2101', '2102', '2103', '2104', '2105', '2106', '2107', '2108', '2109', '2110', '2111', '2112', '2113', '2114', '2115', '2116', '2117', '2118', '2119', '2120', '2121', '2122', '2123', '2124', '2125', '2126', '2127', '2128', '2129', '2130', '2131', '2132', '2133', '2134', '2135', '2136', '2137', '2138', '2139', '2140', '2141', '2142', '2143', '2144', '2145', '2146', '2147', '2148', '2149', '2150', '2151', '2152', '2153', '2154', '2155', '2156', '2157', '2158', '2159', '2160', '2161', '2162', '2163', '2164', '2165', '2166', '2167', '2168', '2169', '2170', '2171', '2172', '2173', '2174', '2175', '2176', '2177', '2178', '2179', '2180', '2181', '2182', '2183', '2184', '2185', '2186', '2187', '2188', '2189', '2190', '2191', '2192', '2193', '2194', '2195', '2196', '2197', '2198', '2199', '2200', '2201', '2202', '2203', '2204', '2205', '2206', '2207', '2208', '2209', '2210', '2211', '2212', '2213', '2214', '2215', '2216', '2217', '2218', '2219', '2220', '2221', '2222', '2223', '2224', '2225', '2226', '2227', '2228', '2229', '2230', '2231', '2232', '2233', '2234', '2235', '2236', '2237', '2238', '2239', '2240', '2241', '2242', '2243', '2244', '2245', '2246', '2247', '2248', '2249', '2250', '2251', '2252', '2253', '2254', '2255', '2256', '2257', '2258', '2259', '2260', '2261', '2262', '2263', '2264', '2265', '2266', '2267', '2268', '2269', '2270', '2271', '2272', '2273', '2274', '2275', '2276', '2277', '2278', '2279', '2280', '2281', '2282', '2283', '2284', '2285', '2286', '2287', '2288', '2289', '2290', '2291', '2292', '2293', '2294', '2295', '2296', '2297', '2298', '2299', '2300', '2301', '2302', '2303', '2304', '2305', '2306', '2307', '2308', '2309', '2310', '2311', '2312', '2313', '2314', '2315', '2316', '2317', '2318', '2319', '2320', '2321', '2322', '2323', '2324', '2325', '2326', '2327', '2328', '2329', '2330', '2331', '2332', '2333', '2334', '2335', '2336', '2337', '2338', '2339', '2340', '2341', '2342', '2343', '2344', '2345', '2346', '2347', '2348', '2349', '2350', '2351', '2352', '2353', '2354', '2355', '2356', '2357', '2358', '2359', '2360', '2361', '2362', '2363', '2364', '2365', '2366', '2367', '2368', '2369', '2370', '2371', '2372', '2373', '2374', '2375', '2376', '2377', '2378', '2379', '2380', '2381', '2382', '2383', '2384', '2385', '2386', '2387', '2388', '2389', '2390', '2391', '2392', '2393', '2394', '2395', '2396', '2397', '2398', '2399', '2400', '2401', '2402', '2403', '2404', '2405', '2406', '2407', '2408', '2409', '2410', '2411', '2412', '2413', '2414', '2415', '2416', '2417', '2418', '2419', '2420', '2421', '2422', '2423', '2424', '2425', '2426', '2427', '2428', '2429', '2430', '2431', '2432', '2433', '2434', '2435', '2436', '2437', '2438', '2439', '2440', '2441', '2442', '2443', '2444', '2445', '2446', '2447', '2448', '2449', '2450', '2451', '2452', '2453', '2454', '2455', '2456', '2457', '2458', '2459', '2460', '2461', '2462', '2463', '2464', '2465', '2466', '2467', '2468', '2469', '2470', '2471', '2472', '2473', '2474', '2475', '2476', '2477', '2478', '2479', '2480', '2481', '2482', '2483', '2484', '2485', '2486', '2487', '2488', '2489', '2490', '2491', '2492', '2493', '2494', '2495', '2496', '2497', '2498', '2499', '2500', '2501', '2502', '2503', '2504', '2505', '2506', '2507', '2508', '2509', '2510', '2511', '2512', '2513', '2514', '2515', '2516', '2517', '2518', '2519', '2520', '2521', '2522', '2523', '2524', '2525', '2526', '2527', '2528', '2529', '2530', '2531', '2532', '2533', '2534', '2535', '2536', '2537', '2538', '2539', '2540', '2541', '2542', '2543', '2544', '2545', '2546', '2547', '2548', '2549', '2550', '2551', '2552', '2553', '2554', '2555', '2556', '2557', '2558', '2559', '2560', '2561', '2562', '2563', '2564', '2565', '2566', '2567', '2568', '2569', '2570', '2571', '2572', '2573', '2574', '2575', '2576', '2577', '2578', '2579', '2580', '2581', '2582', '2583', '2584', '2585', '2586', '2587', '2588', '2589', '2590', '2591', '2592', '2593', '2594', '2595', '2596', '2597', '2598', '2599', '2600', '2601', '2602', '2603', '2604', '2605', '2606', '2607', '2608', '2609', '2610', '2611', '2612', '2613', '2614', '2615', '2616', '2617', '2618', '2619', '2620', '2621', '2622', '2623', '2624'])"
      ]
     },
     "execution_count": 13,
     "metadata": {},
     "output_type": "execute_result"
    }
   ],
   "source": [
    "userlike_no.keys()"
   ]
  },
  {
   "cell_type": "code",
   "execution_count": 28,
   "metadata": {},
   "outputs": [],
   "source": [
    "t = '1682'\n",
    "th = userlike_no[t]\n",
    "th1 = userlike[t]"
   ]
  },
  {
   "cell_type": "code",
   "execution_count": 29,
   "metadata": {},
   "outputs": [
    {
     "name": "stdout",
     "output_type": "stream",
     "text": [
      "Sabrina (1954)\n",
      "[5, 14]\n",
      "They Made Me a Criminal (1939)\n",
      "[6, 8]\n",
      "Witness (1985)\n",
      "[8, 14, 16]\n",
      "Much Ado About Nothing (1993)\n",
      "[5, 14]\n",
      "Star Wars (1977)\n",
      "[1, 2, 14, 15, 17]\n",
      "Some Folks Call It a Sling Blade (1993)\n",
      "[8, 16]\n",
      "Kolya (1996)\n",
      "[5]\n",
      "Raging Bull (1980)\n",
      "[8]\n",
      "Wonderful, Horrible Life of Leni Riefenstahl, The (1993)\n",
      "[7]\n",
      "Entertaining Angels: The Dorothy Day Story (1996)\n",
      "[8]\n",
      "fuck\n",
      "\n",
      "\n",
      "\n",
      "Sabrina (1954)\n",
      "[5, 14]\n",
      "Witness (1985)\n",
      "[8, 14, 16]\n",
      "They Made Me a Criminal (1939)\n",
      "[6, 8]\n",
      "Much Ado About Nothing (1993)\n",
      "[5, 14]\n",
      "Star Wars (1977)\n",
      "[1, 2, 14, 15, 17]\n",
      "Some Folks Call It a Sling Blade (1993)\n",
      "[8, 16]\n",
      "Kolya (1996)\n",
      "[5]\n",
      "Raging Bull (1980)\n",
      "[8]\n",
      "Wonderful, Horrible Life of Leni Riefenstahl, The (1993)\n",
      "[7]\n",
      "Entertaining Angels: The Dorothy Day Story (1996)\n",
      "[8]\n"
     ]
    }
   ],
   "source": [
    "for i in th:\n",
    "    print(movie_info.loc[i, 1])\n",
    "    print(movie_cate[i])\n",
    "\n",
    "print('fuck\\n\\n\\n')\n",
    "for j in th1:\n",
    "    print(movie_info.loc[j, 1])\n",
    "    print(movie_cate[j])"
   ]
  }
 ],
 "metadata": {
  "kernelspec": {
   "display_name": "Python 3",
   "language": "python",
   "name": "python3"
  },
  "language_info": {
   "codemirror_mode": {
    "name": "ipython",
    "version": 3
   },
   "file_extension": ".py",
   "mimetype": "text/x-python",
   "name": "python",
   "nbconvert_exporter": "python",
   "pygments_lexer": "ipython3",
   "version": "3.6.0"
  }
 },
 "nbformat": 4,
 "nbformat_minor": 2
}
